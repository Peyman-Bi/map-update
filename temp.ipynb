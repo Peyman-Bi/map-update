{
 "cells": [
  {
   "cell_type": "code",
   "execution_count": 1,
   "metadata": {},
   "outputs": [],
   "source": [
    "import pandas as pd\n",
    "import numpy as np\n",
    "import osmnx as ox\n",
    "import datetime\n",
    "import seaborn as sns\n",
    "from shapely import wkb\n",
    "from shapely.geometry import Point\n",
    "from shapely.geometry import LineString\n",
    "import geopandas as gp\n",
    "import matplotlib.pyplot as plt\n",
    "%matplotlib inline"
   ]
  },
  {
   "cell_type": "code",
   "execution_count": 210,
   "metadata": {},
   "outputs": [
    {
     "name": "stderr",
     "output_type": "stream",
     "text": [
      "<ipython-input-210-01c789eb6329>:1: ParserWarning: Falling back to the 'python' engine because the 'c' engine does not support regex separators (separators > 1 char and different from '\\s+' are interpreted as regex); you can avoid this warning by specifying engine='python'.\n",
      "  df = pd.read_csv('./data/mr.csv', sep='\\;')\n"
     ]
    }
   ],
   "source": [
    "df = pd.read_csv('./data/mr.csv', sep='\\;')"
   ]
  },
  {
   "cell_type": "code",
   "execution_count": 211,
   "metadata": {},
   "outputs": [
    {
     "data": {
      "text/html": [
       "<div>\n",
       "<style scoped>\n",
       "    .dataframe tbody tr th:only-of-type {\n",
       "        vertical-align: middle;\n",
       "    }\n",
       "\n",
       "    .dataframe tbody tr th {\n",
       "        vertical-align: top;\n",
       "    }\n",
       "\n",
       "    .dataframe thead th {\n",
       "        text-align: right;\n",
       "    }\n",
       "</style>\n",
       "<table border=\"1\" class=\"dataframe\">\n",
       "  <thead>\n",
       "    <tr style=\"text-align: right;\">\n",
       "      <th></th>\n",
       "      <th>id</th>\n",
       "      <th>opath</th>\n",
       "      <th>cpath</th>\n",
       "      <th>mgeom</th>\n",
       "      <th>length</th>\n",
       "    </tr>\n",
       "  </thead>\n",
       "  <tbody>\n",
       "    <tr>\n",
       "      <th>0</th>\n",
       "      <td>0</td>\n",
       "      <td>296,296,296,296,296</td>\n",
       "      <td>296</td>\n",
       "      <td>LINESTRING(51.3473271634 35.7388015917,51.3473...</td>\n",
       "      <td>0.000158953703954,0.000158953703954,0.00015895...</td>\n",
       "    </tr>\n",
       "    <tr>\n",
       "      <th>1</th>\n",
       "      <td>0</td>\n",
       "      <td>457,159,483,458,251</td>\n",
       "      <td>457,159,484,295,483,458,251</td>\n",
       "      <td>LINESTRING(51.3469343763 35.7380099486,51.3469...</td>\n",
       "      <td>0.000109404570288,9.47900838666e-05,8.61376804...</td>\n",
       "    </tr>\n",
       "    <tr>\n",
       "      <th>2</th>\n",
       "      <td>0</td>\n",
       "      <td>297,252,488,494,495</td>\n",
       "      <td>297,487,256,252,488,489,298,490,491,249,492,49...</td>\n",
       "      <td>LINESTRING(51.3476502132 35.7390303435,51.3476...</td>\n",
       "      <td>0.000222635352092,0.00016668284255,0.000164539...</td>\n",
       "    </tr>\n",
       "    <tr>\n",
       "      <th>3</th>\n",
       "      <td>4</td>\n",
       "      <td>159,296,297,490,492</td>\n",
       "      <td>159,484,295,483,458,251,485,296,486,297,487,25...</td>\n",
       "      <td>LINESTRING(51.3469338 35.738073,51.3469398 35....</td>\n",
       "      <td>9.47900838666e-05,0.000158953703954,0.00022263...</td>\n",
       "    </tr>\n",
       "    <tr>\n",
       "      <th>4</th>\n",
       "      <td>0</td>\n",
       "      <td>295,458,458,458,458</td>\n",
       "      <td>295,483,458</td>\n",
       "      <td>LINESTRING(51.3469592 35.7382483,51.3469763 35...</td>\n",
       "      <td>7.79975640658e-05,0.000145941632164,0.00014594...</td>\n",
       "    </tr>\n",
       "    <tr>\n",
       "      <th>5</th>\n",
       "      <td>7</td>\n",
       "      <td>297,488,488,300,496</td>\n",
       "      <td>297,487,256,252,488,489,298,490,491,249,492,49...</td>\n",
       "      <td>LINESTRING(51.347654812 35.73903346,51.3476652...</td>\n",
       "      <td>0.000222635352092,0.00016453923544,0.000164539...</td>\n",
       "    </tr>\n",
       "  </tbody>\n",
       "</table>\n",
       "</div>"
      ],
      "text/plain": [
       "   id                opath                                              cpath  \\\n",
       "0   0  296,296,296,296,296                                                296   \n",
       "1   0  457,159,483,458,251                        457,159,484,295,483,458,251   \n",
       "2   0  297,252,488,494,495  297,487,256,252,488,489,298,490,491,249,492,49...   \n",
       "3   4  159,296,297,490,492  159,484,295,483,458,251,485,296,486,297,487,25...   \n",
       "4   0  295,458,458,458,458                                        295,483,458   \n",
       "5   7  297,488,488,300,496  297,487,256,252,488,489,298,490,491,249,492,49...   \n",
       "\n",
       "                                               mgeom  \\\n",
       "0  LINESTRING(51.3473271634 35.7388015917,51.3473...   \n",
       "1  LINESTRING(51.3469343763 35.7380099486,51.3469...   \n",
       "2  LINESTRING(51.3476502132 35.7390303435,51.3476...   \n",
       "3  LINESTRING(51.3469338 35.738073,51.3469398 35....   \n",
       "4  LINESTRING(51.3469592 35.7382483,51.3469763 35...   \n",
       "5  LINESTRING(51.347654812 35.73903346,51.3476652...   \n",
       "\n",
       "                                              length  \n",
       "0  0.000158953703954,0.000158953703954,0.00015895...  \n",
       "1  0.000109404570288,9.47900838666e-05,8.61376804...  \n",
       "2  0.000222635352092,0.00016668284255,0.000164539...  \n",
       "3  9.47900838666e-05,0.000158953703954,0.00022263...  \n",
       "4  7.79975640658e-05,0.000145941632164,0.00014594...  \n",
       "5  0.000222635352092,0.00016453923544,0.000164539...  "
      ]
     },
     "execution_count": 211,
     "metadata": {},
     "output_type": "execute_result"
    }
   ],
   "source": [
    "df"
   ]
  },
  {
   "cell_type": "code",
   "execution_count": 14,
   "metadata": {},
   "outputs": [
    {
     "name": "stderr",
     "output_type": "stream",
     "text": [
      "<ipython-input-14-989adeb903c8>:1: ParserWarning: Falling back to the 'python' engine because the 'c' engine does not support regex separators (separators > 1 char and different from '\\s+' are interpreted as regex); you can avoid this warning by specifying engine='python'.\n",
      "  matches = pd.read_csv('./data/mr.csv', sep='\\;')\n"
     ]
    }
   ],
   "source": []
  },
  {
   "cell_type": "code",
   "execution_count": 15,
   "metadata": {},
   "outputs": [],
   "source": [
    "edges = gp.read_file('./ground-map/map/edges.shp')"
   ]
  },
  {
   "cell_type": "code",
   "execution_count": 16,
   "metadata": {},
   "outputs": [],
   "source": [
    "trajectories = gp.read_file('./data/trajectories/trajs.shp')"
   ]
  },
  {
   "cell_type": "code",
   "execution_count": 35,
   "metadata": {},
   "outputs": [
    {
     "data": {
      "text/plain": [
       "<Figure size 6000x4000 with 0 Axes>"
      ]
     },
     "metadata": {},
     "output_type": "display_data"
    },
    {
     "data": {
      "image/png": "[encoded data removed]",
      "text/plain": [
       "<Figure size 432x288 with 1 Axes>"
      ]
     },
     "metadata": {
      "needs_background": "light"
     },
     "output_type": "display_data"
    }
   ],
   "source": [
    "plt.figure(dpi=1000)\n",
    "edges.plot()\n",
    "ploted_edges = []\n",
    "for i in range(len(matches)):\n",
    "    edge_ids = matches.iloc[i]['cpath'].split(',')\n",
    "    for edge_id in edge_ids:\n",
    "        if edge_id in ploted_edges:\n",
    "            continue\n",
    "        ploted_edges.append(edge_id)\n",
    "        edge = edges[(edges['id']==int(edge_id))]['geometry'].iloc[0]\n",
    "        a = np.array(edge.coords)[:, 0]\n",
    "        b = np.array(edge.coords)[:, 1]\n",
    "        plt.plot(a, b, c='b')\n",
    "\n",
    "for i in range(len(trajectories)):\n",
    "    traj = trajectories['geometry'].iloc[i]\n",
    "    a = np.array(traj.coords)[:, 0]\n",
    "    b = np.array(traj.coords)[:, 1]\n",
    "    plt.plot(a, b)\n",
    "\n",
    "plt.savefig('matches.png')"
   ]
  },
  {
   "cell_type": "code",
   "execution_count": 3,
   "metadata": {},
   "outputs": [],
   "source": [
    "edge = df[(df['id']==458)]['geometry'].iloc[0]"
   ]
  },
  {
   "cell_type": "code",
   "execution_count": 4,
   "metadata": {},
   "outputs": [],
   "source": [
    "df1 = gp.read_file('./data/trajectories/trajs.shp')"
   ]
  },
  {
   "cell_type": "code",
   "execution_count": 5,
   "metadata": {},
   "outputs": [],
   "source": [
    "traj = df1['geometry'].iloc[0]"
   ]
  },
  {
   "cell_type": "code",
   "execution_count": 10,
   "metadata": {},
   "outputs": [
    {
     "data": {
      "text/plain": [
       "array([51.34694 , 51.34695 , 51.347008, 51.347107, 51.347134])"
      ]
     },
     "execution_count": 10,
     "metadata": {},
     "output_type": "execute_result"
    }
   ],
   "source": [
    "np.array(traj.coords)[:, 0]"
   ]
  },
  {
   "cell_type": "code",
   "execution_count": 11,
   "metadata": {},
   "outputs": [],
   "source": [
    "a = np.array(edge.coords)[:, 0]\n",
    "b = np.array(edge.coords)[:, 1]\n",
    "a1 = np.array(traj.coords)[:, 0]\n",
    "b1 = np.array(traj.coords)[:, 1]"
   ]
  },
  {
   "cell_type": "code",
   "execution_count": 192,
   "metadata": {},
   "outputs": [],
   "source": [
    "a = [x[0] for x in edge.coords]\n",
    "b = [x[1] for x in edge.coords]\n",
    "a1 = [x[0] for x in traj.coords]\n",
    "b1 = [x[1] for x in traj.coords]"
   ]
  },
  {
   "cell_type": "code",
   "execution_count": null,
   "metadata": {},
   "outputs": [],
   "source": [
    "for "
   ]
  },
  {
   "cell_type": "code",
   "execution_count": 12,
   "metadata": {},
   "outputs": [
    {
     "data": {
      "image/png": "[encoded data removed]",
      "text/plain": [
       "<Figure size 432x288 with 1 Axes>"
      ]
     },
     "metadata": {
      "needs_background": "light"
     },
     "output_type": "display_data"
    }
   ],
   "source": [
    "plt.plot(a, b, label='edges')\n",
    "plt.plot(a1, b1, label='trips')\n",
    "plt.legend()\n",
    "plt.show()"
   ]
  },
  {
   "cell_type": "code",
   "execution_count": 158,
   "metadata": {},
   "outputs": [
    {
     "name": "stdout",
     "output_type": "stream",
     "text": [
      "[51.3472503, 51.3473745]\n",
      "[51.34694, 51.34695, 51.347008, 51.347107, 51.347134]\n",
      "[35.7387402, 35.7388394]\n",
      "[35.73801, 35.738113, 35.73832, 35.738487, 35.738533]\n"
     ]
    }
   ],
   "source": [
    "print(a)\n",
    "print(a1)\n",
    "print(b)\n",
    "print(b1)"
   ]
  },
  {
   "cell_type": "code",
   "execution_count": 216,
   "metadata": {},
   "outputs": [
    {
     "name": "stdout",
     "output_type": "stream",
     "text": [
      "LINESTRING (51.34698 35.738228, 51.34705 35.73839, 51.347088 35.738453, 51.347088 35.738453, 51.347095 35.738464)\n"
     ]
    }
   ],
   "source": [
    "print(df1['geometry'].iloc[5])"
   ]
  },
  {
   "cell_type": "code",
   "execution_count": 177,
   "metadata": {},
   "outputs": [
    {
     "data": {
      "text/html": [
       "<div>\n",
       "<style scoped>\n",
       "    .dataframe tbody tr th:only-of-type {\n",
       "        vertical-align: middle;\n",
       "    }\n",
       "\n",
       "    .dataframe tbody tr th {\n",
       "        vertical-align: top;\n",
       "    }\n",
       "\n",
       "    .dataframe thead th {\n",
       "        text-align: right;\n",
       "    }\n",
       "</style>\n",
       "<table border=\"1\" class=\"dataframe\">\n",
       "  <thead>\n",
       "    <tr style=\"text-align: right;\">\n",
       "      <th></th>\n",
       "      <th>id</th>\n",
       "      <th>geometry</th>\n",
       "    </tr>\n",
       "  </thead>\n",
       "  <tbody>\n",
       "    <tr>\n",
       "      <th>0</th>\n",
       "      <td>MfE6rZrZKr</td>\n",
       "      <td>LINESTRING (51.34694 35.73801, 51.34695 35.738...</td>\n",
       "    </tr>\n",
       "    <tr>\n",
       "      <th>1</th>\n",
       "      <td>Cl9qelgbwW</td>\n",
       "      <td>LINESTRING (51.34735 35.73877, 51.34735 35.738...</td>\n",
       "    </tr>\n",
       "    <tr>\n",
       "      <th>2</th>\n",
       "      <td>uQgVQWDDn3</td>\n",
       "      <td>LINESTRING (51.34766 35.73901, 51.34828 35.739...</td>\n",
       "    </tr>\n",
       "    <tr>\n",
       "      <th>3</th>\n",
       "      <td>4PsWDrmaMh</td>\n",
       "      <td>LINESTRING (51.34694 35.73803, 51.34733 35.738...</td>\n",
       "    </tr>\n",
       "    <tr>\n",
       "      <th>4</th>\n",
       "      <td>7DQedsmbuP</td>\n",
       "      <td>LINESTRING (51.34767 35.73901, 51.34835 35.739...</td>\n",
       "    </tr>\n",
       "    <tr>\n",
       "      <th>5</th>\n",
       "      <td>E8BB0hENGh</td>\n",
       "      <td>LINESTRING (51.34698 35.73823, 51.34705 35.738...</td>\n",
       "    </tr>\n",
       "  </tbody>\n",
       "</table>\n",
       "</div>"
      ],
      "text/plain": [
       "           id                                           geometry\n",
       "0  MfE6rZrZKr  LINESTRING (51.34694 35.73801, 51.34695 35.738...\n",
       "1  Cl9qelgbwW  LINESTRING (51.34735 35.73877, 51.34735 35.738...\n",
       "2  uQgVQWDDn3  LINESTRING (51.34766 35.73901, 51.34828 35.739...\n",
       "3  4PsWDrmaMh  LINESTRING (51.34694 35.73803, 51.34733 35.738...\n",
       "4  7DQedsmbuP  LINESTRING (51.34767 35.73901, 51.34835 35.739...\n",
       "5  E8BB0hENGh  LINESTRING (51.34698 35.73823, 51.34705 35.738..."
      ]
     },
     "execution_count": 177,
     "metadata": {},
     "output_type": "execute_result"
    }
   ],
   "source": [
    "df1"
   ]
  },
  {
   "cell_type": "code",
   "execution_count": 197,
   "metadata": {},
   "outputs": [
    {
     "name": "stdout",
     "output_type": "stream",
     "text": [
      "LINESTRING (51.347668 35.739014, 51.348347 35.73952, 51.34839 35.73956, 51.34962 35.74038, 51.35043 35.740383)\n"
     ]
    }
   ],
   "source": [
    "print(df1['geometry'].iloc[4])"
   ]
  },
  {
   "cell_type": "code",
   "execution_count": 201,
   "metadata": {},
   "outputs": [],
   "source": [
    "mr = pd.read_csv('./data/mr.csv', sep=';')"
   ]
  },
  {
   "cell_type": "code",
   "execution_count": 205,
   "metadata": {},
   "outputs": [
    {
     "data": {
      "text/plain": [
       "'LINESTRING(51.347654812 35.73903346,51.3476652 35.7390405,51.3478913 35.739168,51.3481642 35.7393548,51.3482871 35.7394674,51.3484001 35.739587,51.3485263 35.7397368,51.3486302 35.73987,51.3487416 35.7400021,51.3488361 35.7401113,51.3488996 35.7401747,51.3489507 35.7402175,51.34904 35.7402691,51.349167 35.7403287,51.3493223 35.7403753,51.3494597 35.7404003,51.349608 35.740409,51.3497688 35.7404052,51.3498987 35.7403956,51.3504220015 35.7403242975)'"
      ]
     },
     "execution_count": 205,
     "metadata": {},
     "output_type": "execute_result"
    }
   ],
   "source": [
    "mr['mgeom'].iloc[1]"
   ]
  },
  {
   "cell_type": "code",
   "execution_count": 199,
   "metadata": {},
   "outputs": [],
   "source": [
    "trips = gp.read_file('./sample-test/trips.shp')"
   ]
  },
  {
   "cell_type": "code",
   "execution_count": 200,
   "metadata": {},
   "outputs": [
    {
     "data": {
      "text/html": [
       "<div>\n",
       "<style scoped>\n",
       "    .dataframe tbody tr th:only-of-type {\n",
       "        vertical-align: middle;\n",
       "    }\n",
       "\n",
       "    .dataframe tbody tr th {\n",
       "        vertical-align: top;\n",
       "    }\n",
       "\n",
       "    .dataframe thead th {\n",
       "        text-align: right;\n",
       "    }\n",
       "</style>\n",
       "<table border=\"1\" class=\"dataframe\">\n",
       "  <thead>\n",
       "    <tr style=\"text-align: right;\">\n",
       "      <th></th>\n",
       "      <th>id</th>\n",
       "      <th>geometry</th>\n",
       "    </tr>\n",
       "  </thead>\n",
       "  <tbody>\n",
       "    <tr>\n",
       "      <th>0</th>\n",
       "      <td>1</td>\n",
       "      <td>LINESTRING (1.65890 0.25099, 1.65494 0.70184, ...</td>\n",
       "    </tr>\n",
       "    <tr>\n",
       "      <th>1</th>\n",
       "      <td>2</td>\n",
       "      <td>LINESTRING (4.15042 1.60353, 3.47020 0.92331, ...</td>\n",
       "    </tr>\n",
       "    <tr>\n",
       "      <th>2</th>\n",
       "      <td>3</td>\n",
       "      <td>LINESTRING (0.20081 2.14089, 1.44262 2.14880, ...</td>\n",
       "    </tr>\n",
       "  </tbody>\n",
       "</table>\n",
       "</div>"
      ],
      "text/plain": [
       "   id                                           geometry\n",
       "0   1  LINESTRING (1.65890 0.25099, 1.65494 0.70184, ...\n",
       "1   2  LINESTRING (4.15042 1.60353, 3.47020 0.92331, ...\n",
       "2   3  LINESTRING (0.20081 2.14089, 1.44262 2.14880, ..."
      ]
     },
     "execution_count": 200,
     "metadata": {},
     "output_type": "execute_result"
    }
   ],
   "source": [
    "trips"
   ]
  },
  {
   "cell_type": "code",
   "execution_count": null,
   "metadata": {},
   "outputs": [],
   "source": []
  }
 ],
 "metadata": {
  "kernelspec": {
   "display_name": "Python 3",
   "language": "python",
   "name": "python3"
  },
  "language_info": {
   "codemirror_mode": {
    "name": "ipython",
    "version": 3
   },
   "file_extension": ".py",
   "mimetype": "text/x-python",
   "name": "python",
   "nbconvert_exporter": "python",
   "pygments_lexer": "ipython3",
   "version": "3.8.5"
  }
 },
 "nbformat": 4,
 "nbformat_minor": 2
}
